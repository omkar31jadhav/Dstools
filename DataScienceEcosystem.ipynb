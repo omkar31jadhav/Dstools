{
  "metadata": {
    "language_info": {
      "codemirror_mode": {
        "name": "python",
        "version": 3
      },
      "file_extension": ".py",
      "mimetype": "text/x-python",
      "name": "python",
      "nbconvert_exporter": "python",
      "pygments_lexer": "ipython3",
      "version": "3.8"
    },
    "kernelspec": {
      "name": "python",
      "display_name": "Python (Pyodide)",
      "language": "python"
    }
  },
  "nbformat_minor": 4,
  "nbformat": 4,
  "cells": [
    {
      "cell_type": "markdown",
      "source": "<h1>Data Science Tools And Ecosystem</h1>",
      "metadata": {}
    },
    {
      "cell_type": "markdown",
      "source": "<h1>In this notebook the datascience tools and ecosystem is sumerized</h1>",
      "metadata": {}
    },
    {
      "cell_type": "markdown",
      "source": "<h1>Some of the popular languages that data scientist use are : </h1>\n<ol>\n    <li>python</li>\n    <li>R</li>\n     <li>scala</li>\n</ol> ",
      "metadata": {}
    },
    {
      "cell_type": "markdown",
      "source": "<h1>Some of the commomnly used lib used by data scientist are:</h1>\n<ol>\n     <li>pandas</li>\n     <li>numpy</li>\n     <li>matplotlib</li>\n     <li>scikit learn</li>\n     <li>tensorflow</li>\n     <li>keras</li>\n\n\n\n</ol>\n",
      "metadata": {}
    },
    {
      "cell_type": "markdown",
      "source": "| Data Science Tools  |\n|---------------------|\n| Jupyter Notebook    |\n| RStudio             |\n| VS Code with Python |",
      "metadata": {}
    },
    {
      "cell_type": "markdown",
      "source": "<h1>Below are the few examples of evelutating arithmatic expressions in python</h1> \n-Addition:10+5=15<br>\n-Subtraction:10-5=5<br>\n-multiplication:10*5=50<br>\n-division : 10/5=2<br>",
      "metadata": {}
    },
    {
      "cell_type": "markdown",
      "source": "# This is a simple arithmatic expression to multiply then add integer\nresult = (3*4)+5\nresult",
      "metadata": {}
    },
    {
      "cell_type": "code",
      "source": "#Convert min to hours \nmins = 200\n# By dividing 200 by 60 it will give us output\nhours = mins/60\nhours",
      "metadata": {
        "trusted": true
      },
      "execution_count": 2,
      "outputs": [
        {
          "execution_count": 2,
          "output_type": "execute_result",
          "data": {
            "text/plain": "3.3333333333333335"
          },
          "metadata": {}
        }
      ]
    },
    {
      "cell_type": "markdown",
      "source": "** Objective ** \n-Open source tools for data science<br>\n-The steps including data asset management<br>\n-Languages for data science<br>\n-Data science lib<br>\n-Intro and Working of Jupyter Lab and GITHUB<br>\n-Open source tools Jupyter notebook R-studio , visual studio",
      "metadata": {}
    },
    {
      "cell_type": "markdown",
      "source": "<h1>Author</h1>\nOMKAR JADHAV",
      "metadata": {}
    },
    {
      "cell_type": "code",
      "source": "",
      "metadata": {},
      "execution_count": null,
      "outputs": []
    }
  ]
}